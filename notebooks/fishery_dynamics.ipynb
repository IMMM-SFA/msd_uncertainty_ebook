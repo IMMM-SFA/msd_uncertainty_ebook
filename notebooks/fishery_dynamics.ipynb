{
 "cells": [
  {
   "cell_type": "markdown",
   "metadata": {},
   "source": [
    "# Tutorial: Sensitivity Analysis (SA) to discover factors shaping consequential dynamics\n",
    "This notebook demonstrates the application of sensitivity analysis to\n",
    "discover factors that shape the behavior modes of a socio-ecological system\n",
    "with dynamic human action.\n",
    "\n",
    "The model represents a system of prey and predator fish, with a human\n",
    "actor harvesting the prey fish. The system is simple but very rich in\n",
    "the dynamic behaviors it exhibits. You can read more about this system\n",
    "at [Hadjimichael et al. (2020)](https://doi.org/10.1155/2020/4170453).\n",
    "\n",
    "<img src=\"./figs/eqn2.png\" width=\"300\">\n",
    "\n",
    "This complexity is accompanied by the presence of several equilibria that\n",
    "come in and out of existence with different parameter values. The equilibria\n",
    "also change in their stability according to different parameter values,\n",
    "giving rise to different behavior modes.\n",
    "\n",
    "<img src=\"./figs/Figure_1.png\" width=\"600\">\n",
    "\n",
    "In the unharvested system (without the human actor) the stability of\n",
    "several of these equilibria can be derived analytically. The task becomes\n",
    "significantly more difficult when the adaptive human actor is introduced,\n",
    "deciding to harvest the system at different rates according to their objectives and preferences.\n",
    "\n",
    "Sensitivity analysis methods can help us identify the factors that most\n",
    "control these dynamics by exploring the space of parameter values and\n",
    "seeing how system outputs change as a result.\n",
    "\n",
    "Through previously conducted optimization, there already exists a set of potential\n",
    "harvesting strategies that were identified in pursuit of five objectives:\n",
    "\n",
    "- Maximize Harvesting Discounted Profits (Net Present Value)\n",
    "- Minimize Prey Population Deficit\n",
    "- Minimize Longest Duration of Consecutive Low Harvest\n",
    "- Maximize Worst Harvest Instance\n",
    "- Minimize Harvest Variance\n",
    "\n",
    "The identified harvesting strategies also meet the necessary constraint of not causing inadvertent predator collapse. \n",
    "\n",
    "We will be examining the effects of parametric uncertainty on these identified\n",
    "strategies, particularly focusing on two\n",
    "strategies: one selected to maximize harvesting profits and one identified through\n",
    "previous analysis to perform 'well enough' for all objectives across a wide range\n",
    "of states of the world (referred to as the 'robust' harvesting policy). "
   ]
  },
  {
   "cell_type": "code",
   "execution_count": null,
   "metadata": {
    "pycharm": {
     "name": "#%%\n"
    }
   },
   "outputs": [],
   "source": [
    "import msdbook\n",
    "\n",
    "import numpy as np\n",
    "import matplotlib.pyplot as plt\n",
    "\n",
    "from SALib.sample import saltelli\n",
    "from SALib.analyze import sobol\n",
    "from matplotlib import patheffects as pe\n",
    "\n",
    "%matplotlib inline\n",
    "%config InlineBackend.print_figure_kwargs = {'bbox_inches':None}\n"
   ]
  },
  {
   "cell_type": "markdown",
   "metadata": {
    "pycharm": {
     "name": "#%% md\n"
    }
   },
   "source": [
    "## Step 1:  Load identified solutions and explore performance\n",
    "Identify and load the most robust and profit-maximizing solutions"
   ]
  },
  {
   "cell_type": "code",
   "execution_count": null,
   "metadata": {
    "pycharm": {
     "name": "#%%\n"
    }
   },
   "outputs": [],
   "source": [
    "robustness = msdbook.load_robustness_data()\n",
    "results = msdbook.load_profit_maximization_data()\n",
    "\n",
    "robust_solution = np.argmax(robustness[:,-1]) #pick robust solution\n",
    "profit_solution = np.argmin(results[:,6]) #pick profitable solution\n",
    "objective_performance = -results[:,6:]\n",
    "\n",
    "# Get decision variables for each of the policies\n",
    "highprofitpolicy = results[profit_solution,0:6]\n",
    "mostrobustpolicy = results[robust_solution,0:6]\n"
   ]
  },
  {
   "cell_type": "markdown",
   "metadata": {},
   "source": [
    "Plot the identified solutions with regards to their objective performance in a parallel axis plot"
   ]
  },
  {
   "cell_type": "code",
   "execution_count": null,
   "metadata": {
    "pycharm": {
     "is_executing": true
    }
   },
   "outputs": [],
   "source": [
    "# create the figure object\n",
    "fig = plt.figure(figsize=(18,9))\n",
    "\n",
    "# set up subplot axis object\n",
    "ax = fig.add_subplot(1, 1, 1)\n",
    "\n",
    "# labels where constraint is always 0\n",
    "objs_labels = ['Net present\\nvalue (NPV)', \n",
    "               'Prey population deficit', \n",
    "               'Longest duration\\nof low harvest', \n",
    "               'Worst harvest instance',\n",
    "               'Variance of harvest',\n",
    "               'Duration of predator\\npopulation collapse'] \n",
    "\n",
    "# normalization across objectives\n",
    "mins = objective_performance.min(axis=0)\n",
    "maxs = objective_performance.max(axis=0)\n",
    "norm_reference = objective_performance.copy()\n",
    "\n",
    "for i in range(5):\n",
    "    mm = objective_performance[:,i].min()\n",
    "    mx = objective_performance[:,i].max()\n",
    "    if mm!=mx:\n",
    "        norm_reference[:,i] = (objective_performance[:,i] - mm) / (mx - mm)\n",
    "    else:\n",
    "        norm_reference[:,i] = 1\n",
    "\n",
    "# colormap from matplotlib\n",
    "cmap = plt.cm.get_cmap(\"Blues\")\n",
    "\n",
    "# plot all solutions\n",
    "for i in range(len(norm_reference[:,0])):\n",
    "    ys = np.append(norm_reference[i,:], 1.0)\n",
    "    xs = range(len(ys))\n",
    "    ax.plot(xs, ys, c=cmap(ys[0]), linewidth=2)\n",
    "    \n",
    "# to highlight robust solutions\n",
    "ys = np.append(norm_reference[profit_solution,:], 1.0)# Most profitable\n",
    "xs = range(len(ys))\n",
    "l1 = ax.plot(xs[0:6], \n",
    "             ys[0:6], \n",
    "             c=cmap(ys[0]), \n",
    "             linewidth=3, \n",
    "             label='Most robust in NPV', \n",
    "             path_effects=[pe.Stroke(linewidth=6, foreground='darkgoldenrod'),pe.Normal()])\n",
    "\n",
    "ys = np.append(norm_reference[robust_solution,:], 1.0) # Most robust in all criteria\n",
    "xs = range(len(ys))\n",
    "l2 = ax.plot(xs[0:6], \n",
    "             ys[0:6], \n",
    "             c=cmap(ys[0]), \n",
    "             linewidth=3, \n",
    "             label='Most robust across criteria', \n",
    "             path_effects=[pe.Stroke(linewidth=6, foreground='gold'), pe.Normal()])\n",
    "\n",
    "# build colorbar\n",
    "sm = plt.cm.ScalarMappable(cmap=cmap)\n",
    "sm.set_array([objective_performance[:,0].min(),objective_performance[:,0].max()])\n",
    "cbar = fig.colorbar(sm)\n",
    "cbar.ax.set_ylabel(\"\\nNet present value (NPV)\")\n",
    "\n",
    "# tick values\n",
    "minvalues = [\"{0:.3f}\".format(mins[0]), \n",
    "             \"{0:.3f}\".format(-mins[1]), \n",
    "             str(-mins[2]), \n",
    "             \"{0:.3f}\".format(-mins[3]), \n",
    "             \"{0:.2f}\".format(-mins[4]), \n",
    "             str(0)]\n",
    "\n",
    "maxvalues = [\"{0:.2f}\".format(maxs[0]), \n",
    "             \"{0:.3f}\".format(-maxs[1]), \n",
    "             str(-maxs[2]), \n",
    "             \"{0:.2f}\".format(maxs[3]), \n",
    "             \"{0:.2f}\".format(-maxs[4]), \n",
    "             str(0) ]\n",
    "\n",
    "ax.set_ylabel(\"Preference ->\", size= 12)\n",
    "ax.set_yticks([])\n",
    "ax.set_xticks([0,1,2,3,4,5])\n",
    "ax.set_xticklabels([minvalues[i]+'\\n'+objs_labels[i] for i in range(len(objs_labels))])\n",
    "\n",
    "# make a twin axis for toplabels\n",
    "ax1 = ax.twiny()\n",
    "ax1.set_yticks([])\n",
    "ax1.set_xticks([0,1,2,3,4,5])\n",
    "ax1.set_xticklabels([maxvalues[i] for i in range(len(maxs)+1)])\n"
   ]
  },
  {
   "cell_type": "markdown",
   "metadata": {},
   "source": [
    "The results of the optimization are presented in a parallel axis plot where each of the five objectives (and one constraint) are represented as an axis. Each solution on the Pareto front is represented as a line where the color of the line indicates the value of the NPV objective. The preference for objective values is in the upward direction. Therefore, the ideal solution would be a line straight across the top of the plot that satisfies every objective. However, no such line exists because there are tradeoffs when sets of objectives are prioritized over the others. When lines cross in between axes, this indicates a tradeoff between objectives (as seen in the first two axes).The solution that is most robust in the NPV objective has the highest value on the first axis and is outlined in dark gold. The solution that is most robust across all objectives is outlined in a brighter yellow. "
   ]
  },
  {
   "cell_type": "markdown",
   "metadata": {},
   "source": [
    "## Step 2: Use SALib to generate a sample for a Sobol sensitivity analysis\n",
    "To do so, we first need to define the problem dictionary that allows us to generate alternative states of the world."
   ]
  },
  {
   "cell_type": "code",
   "execution_count": null,
   "metadata": {
    "pycharm": {
     "is_executing": true,
     "name": "#%%\n"
    }
   },
   "outputs": [],
   "source": [
    "# Set up SALib problem\n",
    "problem = {\n",
    "  'num_vars': 9,\n",
    "  'names': ['a', 'b', 'c', 'd', 'h', 'K', 'm', 'sigmaX', 'sigmaY'],\n",
    "  'bounds': [[0.002, 2], [0.005, 1], [0.2, 1], [0.05, 0.2], [0.001, 1],\n",
    "             [100, 5000], [0.1, 1.5], [0.001, 0.01], [0.001, 0.01]]\n",
    "}\n"
   ]
  },
  {
   "cell_type": "markdown",
   "metadata": {},
   "source": [
    "You can use the following to generate a Saltelli sample using the following:\n",
    "\n",
    "```python\n",
    "param_values = saltelli.sample(problem, 1024, calc_second_order=False)\n",
    "```\n",
    "Generally, it is a good idea to save the result of the sample since it is often reused and regenerating it produces a different sample set.  For this reason, we will load one from file that was previously generated.\n"
   ]
  },
  {
   "cell_type": "code",
   "execution_count": null,
   "metadata": {
    "pycharm": {
     "is_executing": true
    }
   },
   "outputs": [],
   "source": [
    "# load previously generated Saltelli sample from our msdbook package data\n",
    "param_values = msdbook.load_saltelli_param_values()\n"
   ]
  },
  {
   "cell_type": "markdown",
   "metadata": {
    "pycharm": {
     "name": "#%% md\n"
    }
   },
   "source": [
    "## Step 3: Evaluate the system over all generated states of the world\n",
    "We need to identify the states where the predator population collapses,\n",
    "as an inadvertent consequence of applying the harvesting strategy under\n",
    "a state of the world different from the one originally assumed. Due to how long this step takes to execute within the tutorial, we will read in the solutions from an external file. However, the block of code below shows how evaluation can be implemented. \n",
    "\n",
    "```python\n",
    "# create array to store collapse values under both policies\n",
    "collapse_days = np.zeros([len(param_values), 2])\n",
    "\n",
    "# evaluate performance under every state\n",
    "for i in range(len(param_values)):\n",
    "    \n",
    "    additional_inputs = np.append(['Previous_Prey'],\n",
    "                                  [param_values[i,0],\n",
    "                                   param_values[i,1],\n",
    "                                   param_values[i,2],\n",
    "                                   param_values[i,3],\n",
    "                                   param_values[i,4],\n",
    "                                   param_values[i,5],\n",
    "                                   param_values[i,6],\n",
    "                                   param_values[i,7],\n",
    "                                   param_values[i,8]])\n",
    "    \n",
    "    collapse_days[i,0]=fish_game(highprofitpolicy, additional_inputs)[1][0]\n",
    "    collapse_days[i,1]=fish_game(mostrobustpolicy, additional_inputs)[1][0]\n",
    "```\n"
   ]
  },
  {
   "cell_type": "code",
   "execution_count": null,
   "metadata": {
    "pycharm": {
     "is_executing": true
    }
   },
   "outputs": [],
   "source": [
    "# load the simulation data from our msdbook package data\n",
    "collapse_days = msdbook.load_collapse_data()\n"
   ]
  },
  {
   "cell_type": "markdown",
   "metadata": {
    "pycharm": {
     "name": "#%% md\n"
    }
   },
   "source": [
    "## Step 4: Calculate sensitivity indices"
   ]
  },
  {
   "cell_type": "code",
   "execution_count": null,
   "metadata": {
    "pycharm": {
     "is_executing": true,
     "name": "#%%\n"
    }
   },
   "outputs": [],
   "source": [
    "Si_profit = sobol.analyze(problem, collapse_days[:, 0], \n",
    "                          calc_second_order=False, \n",
    "                          conf_level=0.95, \n",
    "                          print_to_console=True)\n"
   ]
  },
  {
   "cell_type": "code",
   "execution_count": null,
   "metadata": {},
   "outputs": [],
   "source": [
    "Si_robustness = sobol.analyze(problem, \n",
    "                              collapse_days[:, 1], \n",
    "                              calc_second_order=False, \n",
    "                              conf_level=0.95, \n",
    "                              print_to_console=True)\n"
   ]
  },
  {
   "cell_type": "markdown",
   "metadata": {},
   "source": [
    "Looking at the total-order indices, (ST) factors $m$, $a$, $b$, $d$\n",
    "and $K$ appear to affect the stability of this system. Looking at the first-order\n",
    "indices (S1), we also see that besides factors $m$ and $a$, all other factors are\n",
    "important in this system through their interactions, which make up the\n",
    "difference between their S1 and ST indices. This shows the danger of limiting sensitivity analyses to first order effects, as factor importance might be significantly misjudged.\n",
    "\n",
    "These findings are supported by the analytical condition of equilibrium\n",
    "stability in this system:\n",
    "\n",
    "<img src=\"./figs/eqn4.png\">\n",
    "\n",
    "In an unharvested system, this condition is both necessary and sufficient for the equilibrium of the two species coexisting to be stable. "
   ]
  },
  {
   "cell_type": "markdown",
   "metadata": {},
   "source": [
    "When adaptive human action is introduced however, this condition is still necessary, but no longer sufficient, as harvesting reduces the numbers of prey\n",
    "fish and as a result reduces the resources for the predator fish.\n",
    "Since this harvesting value is not constant, but can dynamically\n",
    "adapt according to the harvester's objectives, it cannot be\n",
    "introduced into this simple equation."
   ]
  },
  {
   "cell_type": "markdown",
   "metadata": {},
   "source": [
    "## Step 5: Explore relationship between uncertain factors and performance\n",
    "In the following steps, we will use the results of our sensitivity analysis to investigate the relationships between \n",
    "parametric uncertainty, equilibrium stability and the performance of the two policies.\n",
    "\n",
    "We can use the top three factors identified ($m$, $a$, and $b$) to visualize the performance of our policies in this three-dimensional parametric space. \n",
    "\n",
    "We first define the stability condition, as a function of $b$ and $m$, and calculate the corresponding values of $a$. "
   ]
  },
  {
   "cell_type": "code",
   "execution_count": null,
   "metadata": {
    "pycharm": {
     "is_executing": true,
     "name": "#%%\n"
    }
   },
   "outputs": [],
   "source": [
    "def inequality(b, m, h, K):\n",
    "    return ((b**m)/(h*K)**(1-m))\n",
    "\n",
    "# boundary interval that separates successful and failed states of the world\n",
    "b= np.linspace(start=0.005, stop=1, num=1000)\n",
    "m= np.linspace(start=0.1, stop=1.5, num=1000)\n",
    "h= np.linspace(start=0.001, stop=1, num=1000)\n",
    "K= np.linspace(start=100, stop=2000, num=1000)\n",
    "b, m = np.meshgrid(b, m)\n",
    "a = inequality(b,m,h,K)\n",
    "a = a.clip(0,2)\n"
   ]
  },
  {
   "cell_type": "code",
   "execution_count": null,
   "metadata": {
    "pycharm": {
     "is_executing": true,
     "name": "#%%\n"
    }
   },
   "outputs": [],
   "source": [
    "# set colormap\n",
    "cmap = plt.cm.get_cmap(\"RdBu_r\")\n",
    "\n",
    "# build figure object\n",
    "fig = plt.figure(figsize=plt.figaspect(0.5), dpi=600, constrained_layout=True)\n",
    "\n",
    "# set up scalable colormap\n",
    "sm = plt.cm.ScalarMappable(cmap=cmap)\n",
    "\n",
    "# set up subplot for profit maximizing policy\n",
    "ax1 = fig.add_subplot(1, 2, 1, projection='3d')\n",
    "\n",
    "# add point data for profit plot\n",
    "sows = ax1.scatter(param_values[:,1], \n",
    "                   param_values[:,6], \n",
    "                   param_values[:,0], \n",
    "                   c=collapse_days[:,0], \n",
    "                   cmap=cmap, \n",
    "                   s=0.5)\n",
    "\n",
    "# add surface data for boundary separating successful and failed states of the world\n",
    "pts_ineq = ax1.plot_surface(b, m, a, color='black', alpha=0.25, zorder=1)\n",
    "\n",
    "# add reference point to plot\n",
    "pt_ref = ax1.scatter(0.5, 0.7, 0.005, c='black', s=50, zorder=0)\n",
    "\n",
    "# set up plot aesthetics and labels\n",
    "ax1.set_xlabel(\"b\")\n",
    "ax1.set_ylabel(\"m\")\n",
    "ax1.set_zlabel(\"a\")\n",
    "ax1.set_zlim([0.0, 2.0])\n",
    "ax1.set_xlim([0.0, 1.0])\n",
    "ax1.set_ylim([0.0, 1.5])\n",
    "ax1.xaxis.set_view_interval(0,  0.5)\n",
    "ax1.set_facecolor('white')\n",
    "ax1.view_init(12, -17)\n",
    "ax1.set_title('Profit maximizing policy')\n",
    "\n",
    "# set up subplot for robust policy\n",
    "ax2 = fig.add_subplot(1, 2, 2, projection='3d')\n",
    "\n",
    "# add point data for robust plot\n",
    "sows = ax2.scatter(param_values[:,1], \n",
    "                   param_values[:,6], \n",
    "                   param_values[:,0], \n",
    "                   c=collapse_days[:,1], \n",
    "                   cmap=cmap, \n",
    "                   s=0.5)\n",
    "\n",
    "# add surface data for boundary separating successful and failed states of the world\n",
    "pts_ineq = ax2.plot_surface(b, m, a, color='black', alpha=0.25, zorder=1)\n",
    "\n",
    "# add reference point to plot\n",
    "pt_ref = ax2.scatter(0.5, 0.7, 0.005, c='black', s=50, zorder=0)\n",
    "\n",
    "# set up plot aesthetics and labels\n",
    "ax2.set_xlabel(\"b\")\n",
    "ax2.set_ylabel(\"m\")\n",
    "ax2.set_zlabel(\"a\")\n",
    "ax2.set_zlim([0.0, 2.0])\n",
    "ax2.set_xlim([0.0, 1.0])\n",
    "ax2.set_ylim([0.0, 1.5])\n",
    "ax2.xaxis.set_view_interval(0, 0.5)\n",
    "ax2.set_facecolor('white')\n",
    "ax2.view_init(12, -17)\n",
    "ax2.set_title('Robust policy')\n",
    "\n",
    "# set up colorbar\n",
    "sm.set_array([collapse_days.min(), collapse_days.max()])\n",
    "cbar = fig.colorbar(sm)\n",
    "cbar.set_label('Days with predator collapse')\n"
   ]
  },
  {
   "cell_type": "markdown",
   "metadata": {
    "pycharm": {
     "name": "#%% md\n"
    }
   },
   "source": [
    "These figures show the combinations of factors that lead to success or failure in different states of the world when the NPV-maximizing and Robust policies are utilized. Each point is a state of the world, characterized by specific values of the parameters, and ideally, we would like the color of the point to be blue, to represent that there are a low number of days with a predator collapse in that world. The gray curve denotes the highly non-linear nature of the boundary that separates successful and failed states of the world. The figures demonstrate the following key points:  \n",
    "\n",
    "First, as asserted above, the policies interact with the system in different and complex ways. In the presence of human action, the stability condition is not sufficient in determining whether the policy will succeed, even though it clearly shapes the system in a fundamental manner. \n",
    "\n",
    "Secondly, the robust policy manages to avoid collapse in many more of the sampled states of the world, indicated by the number of blue points. This presents a clear tradeoff between profit-maximizing performance and robustness against uncertainty.\n"
   ]
  }
 ],
 "metadata": {
  "kernelspec": {
   "display_name": "py3.9.4_msd",
   "language": "python",
   "name": "py3.9.4_msd"
  },
  "language_info": {
   "codemirror_mode": {
    "name": "ipython",
    "version": 3
   },
   "file_extension": ".py",
   "mimetype": "text/x-python",
   "name": "python",
   "nbconvert_exporter": "python",
   "pygments_lexer": "ipython3",
   "version": "3.9.4"
  }
 },
 "nbformat": 4,
 "nbformat_minor": 4
}
