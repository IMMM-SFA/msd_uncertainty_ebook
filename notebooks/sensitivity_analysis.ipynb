{
 "cells": [
  {
   "cell_type": "markdown",
   "id": "f84136d3-a032-46fc-ae8b-aaa7ba14f05d",
   "metadata": {},
   "source": [
    "# Sensitivity Analysis Tutorial"
   ]
  },
  {
   "cell_type": "code",
   "execution_count": null,
   "id": "3bcd0eee-e5a5-4423-afa0-0624cbcc2572",
   "metadata": {},
   "outputs": [],
   "source": []
  }
 ],
 "metadata": {
  "kernelspec": {
   "display_name": "Python 3",
   "language": "python",
   "name": "python3"
  },
  "language_info": {
   "codemirror_mode": {
    "name": "ipython",
    "version": 3
   },
   "file_extension": ".py",
   "mimetype": "text/x-python",
   "name": "python",
   "nbconvert_exporter": "python",
   "pygments_lexer": "ipython3",
   "version": "3.9.4"
  }
 },
 "nbformat": 4,
 "nbformat_minor": 5
}
