{
 "cells": [
  {
   "cell_type": "markdown",
   "metadata": {},
   "source": [
    "# Tutorial: Sensitivity Analysis (SA) using the Saltelli sampling scheme with Sobol SA\n",
    "In this tutorial, we will use the popular Python Sensitivity Analysis Library ([SALib](https://salib.readthedocs.io/en/latest/index.html)) to:\n",
    "1. Generate a problem set as a dictionary for our Ishigami function that has three inputs\n",
    "2. Generate 8000 samples for our problem set using the Saltelli<sup>1,2</sup> sampling scheme\n",
    "3. Execute the Ishigami function for each of our samples and gather the outputs\n",
    "4. Compute the sensitivity analysis to generate first-order and total-order sensitivity indices using the Sobol<sup>3</sup> method\n",
    "5. Interpret the meaning of our results\n",
    "\n",
    "## Let's get started!\n",
    "__NOTE__:  Content from this tutorial is taken directly from the SALib [\"Basics\"](https://salib.readthedocs.io/en/latest/basics.html) walkthrough."
   ]
  },
  {
   "cell_type": "code",
   "execution_count": null,
   "metadata": {
    "pycharm": {
     "name": "#%%\n"
    }
   },
   "outputs": [],
   "source": [
    "import numpy as np\n",
    "from SALib.sample import saltelli\n",
    "from SALib.analyze import sobol\n",
    "from SALib.test_functions import Ishigami\n"
   ]
  },
  {
   "cell_type": "markdown",
   "metadata": {
    "pycharm": {
     "name": "#%% md\n"
    }
   },
   "source": [
    "## Step 1:  Generate the problem dictionary\n",
    "The Ishigami function is of the form: $$f(x) = sin(x_1)+asin^2(x_2)+bx_3^4sin(x_1)$$ and has three inputs, 𝑥<sub>1</sub>, 𝑥<sub>2</sub>, 𝑥<sub>3</sub> where 𝑥<sub>𝑖</sub> ∈ [−𝜋, 𝜋]. "
   ]
  },
  {
   "cell_type": "code",
   "execution_count": null,
   "metadata": {
    "pycharm": {
     "name": "#%%\n"
    }
   },
   "outputs": [],
   "source": [
    "problem = {\n",
    "    'num_vars': 3,\n",
    "    'names': ['x1', 'x2', 'x3'],\n",
    "    'bounds': [[-3.14159265359, 3.14159265359],\n",
    "               [-3.14159265359, 3.14159265359],\n",
    "               [-3.14159265359, 3.14159265359]]\n",
    "}\n"
   ]
  },
  {
   "cell_type": "markdown",
   "metadata": {
    "pycharm": {
     "name": "#%% md\n"
    }
   },
   "source": [
    "## Step 2:  Generate samples using the Saltelli sampling scheme\n",
    "Sobol SA requires the use of the Saltelli sampling scheme.  The output of the `saltelli.sample` function is a NumPy array that is of shape 8000 by 3. The sampler generates 𝑁∗(2𝐷+2) samples, where in this example N is 1000 (the argument we supplied) and D is 3 (the number of model inputs), yielding 8000 samples. The keyword argument `calc_second_order=False` will exclude second-order indices, resulting in a smaller sample matrix with 𝑁∗(𝐷+2) rows instead."
   ]
  },
  {
   "cell_type": "code",
   "execution_count": null,
   "metadata": {
    "pycharm": {
     "name": "#%%\n"
    }
   },
   "outputs": [],
   "source": [
    "param_values = saltelli.sample(problem, 1000)\n",
    "\n",
    "print(f\"`param_values` shape:  {param_values.shape}\")\n"
   ]
  },
  {
   "cell_type": "markdown",
   "metadata": {
    "pycharm": {
     "name": "#%% md\n"
    }
   },
   "source": [
    "## Step 3:  Execute the Ishigami function over our sample set\n",
    "SALib provides a nice wrapper to the Ishigami function that allows the user to directly pass the `param_values` array we just generated into the function directly."
   ]
  },
  {
   "cell_type": "code",
   "execution_count": null,
   "metadata": {
    "pycharm": {
     "name": "#%%\n"
    }
   },
   "outputs": [],
   "source": [
    "Y = Ishigami.evaluate(param_values)\n"
   ]
  },
  {
   "cell_type": "markdown",
   "metadata": {
    "pycharm": {
     "name": "#%% md\n"
    }
   },
   "source": [
    "## Step 4:  Compute first-, second-, and total-order sensitivity indices using the Sobol method\n",
    "The `sobol.analyze` function will use our problem dictionary and the result of the Ishigami runs (`Y`) to compute first-, second-, and total-order indicies."
   ]
  },
  {
   "cell_type": "code",
   "execution_count": null,
   "metadata": {
    "pycharm": {
     "name": "#%%\n"
    }
   },
   "outputs": [],
   "source": [
    "Si = sobol.analyze(problem, Y)\n"
   ]
  },
  {
   "cell_type": "markdown",
   "metadata": {
    "pycharm": {
     "name": "#%% md\n"
    }
   },
   "source": [
    "`Si` is a Python dict with the keys \"S1\", \"S2\", \"ST\", \"S1_conf\", \"S2_conf\", and \"ST_conf\". The `_conf` keys store the corresponding confidence intervals, typically with a confidence level of 95%. Use the keyword argument `print_to_console=True` to print all indices. Or, we can print the individual values from `Si` as shown in the next step.\n",
    "\n",
    "## Step 5: Interpret our results\n",
    "When we execute the following code to take a look at our first-order indices (`S1`) for each of our three parameters, we see that 𝑥<sub>1</sub> and 𝑥<sub>2</sub> exibit first-order sensitivities. This means that there is contribution to the output variance by those parameters independently, whereas 𝑥<sub>3</sub> does not contribute to the output variance."
   ]
  },
  {
   "cell_type": "code",
   "execution_count": null,
   "metadata": {
    "pycharm": {
     "name": "#%%\n"
    }
   },
   "outputs": [],
   "source": [
    "first_order = Si['S1']\n",
    "\n",
    "print('First-order:')\n",
    "print(f\"x1: {first_order[0]}, x2: {first_order[1]}, x3: {first_order[2]}\")\n"
   ]
  },
  {
   "cell_type": "markdown",
   "metadata": {
    "pycharm": {
     "name": "#%% md\n"
    }
   },
   "source": [
    "Next, we evaluate the total-order indices and find that they are substantially larger than the first-order indices, which reveals that higher-order interactions are occurring. Our total-order indices measure the contribution to the output variance caused by a model input, including both its first-order effects (the input varying alone) and all higher-order interactions. Now we see that 𝑥<sub>3</sub> has non-negligible total order indices. "
   ]
  },
  {
   "cell_type": "code",
   "execution_count": null,
   "metadata": {
    "pycharm": {
     "name": "#%%\n"
    }
   },
   "outputs": [],
   "source": [
    "total_order = Si['ST']\n",
    "\n",
    "print('Total-order:')\n",
    "print(f\"x1: {total_order[0]}, x2: {total_order[1]}, x3: {total_order[2]}\")\n"
   ]
  },
  {
   "cell_type": "markdown",
   "metadata": {
    "pycharm": {
     "name": "#%% md\n"
    }
   },
   "source": [
    "Finally, we can investigate these higher order interactions by viewing the second-order outputs.  The second-order indicies measure the contribution to the output variance caused by the interaction between any two model inputs."
   ]
  },
  {
   "cell_type": "code",
   "execution_count": null,
   "metadata": {
    "pycharm": {
     "name": "#%%\n"
    }
   },
   "outputs": [],
   "source": [
    "second_order = Si['S2']\n",
    "\n",
    "print(\"Second-order:\")\n",
    "print(f\"x1-x2:  {second_order[0,1]}\")\n",
    "print(f\"x1-x3:  {second_order[0,2]}\")\n",
    "print(f\"x2-x3:  {second_order[1,2]}\")\n"
   ]
  },
  {
   "cell_type": "markdown",
   "metadata": {
    "pycharm": {
     "name": "#%% md\n"
    }
   },
   "source": [
    "We can see that there are strong interactions between 𝑥<sub>1</sub> and 𝑥<sub>3</sub>. Note in the Ishigami function, these two variables are multiplied in the last term, which creates these interactive effects. If we were considering first order indices alone, we would erroneously assume that 𝑥<sub>3</sub> has no effect on our output, but the second-order and total order indices reveal that this is not the case. It's easy to understand where we might see iteractive effects in the case of the simple Ishigami function. However, it's important to remember that in more complex systems, there may be many higher-order interactions that are not apparent, but could be extremely consequential in contributing to the variance of the output. Additionally, some computing error will appear in the sensitivity indices. For example, we observe a negative value for the 𝑥<sub>2</sub>-𝑥<sub>3</sub> index. Typically, these computing errors shrink as the number of samples increases."
   ]
  },
  {
   "cell_type": "markdown",
   "metadata": {},
   "source": [
    "## References\n",
    "[1] Saltelli, A. (2002). “Making best use of model evaluations to compute sensitivity indices.” Computer Physics Communications, 145(2):280-297, doi:10.1016/S0010-4655(02)00280-1.\n",
    "\n",
    "[2] Saltelli, A., P. Annoni, I. Azzini, F. Campolongo, M. Ratto, and S. Tarantola (2010). “Variance based sensitivity analysis of model output. Design and estimator for the total sensitivity index.” Computer Physics Communications, 181(2):259-270, doi:10.1016/j.cpc.2009.09.018.\n",
    "\n",
    "[3] Sobol, I. M. (2001). “Global sensitivity indices for nonlinear mathematical models and their Monte Carlo estimates.” Mathematics and Computers in Simulation, 55(1-3):271-280, doi:10.1016/S0378-4754(00)00270-6."
   ]
  }
 ],
 "metadata": {
  "kernelspec": {
   "display_name": "py3.9.4_msd",
   "language": "python",
   "name": "py3.9.4_msd"
  },
  "language_info": {
   "codemirror_mode": {
    "name": "ipython",
    "version": 3
   },
   "file_extension": ".py",
   "mimetype": "text/x-python",
   "name": "python",
   "nbconvert_exporter": "python",
   "pygments_lexer": "ipython3",
   "version": "3.9.4"
  }
 },
 "nbformat": 4,
 "nbformat_minor": 4
}
