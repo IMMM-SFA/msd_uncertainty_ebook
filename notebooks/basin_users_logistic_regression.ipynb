{
 "cells": [
  {
   "cell_type": "markdown",
   "metadata": {
    "pycharm": {
     "name": "#%% md\n"
    }
   },
   "source": [
    "# Tutorial: Logistic Regression for Factor Mapping \n",
    "\n",
    "This tutorial replicates a scenario discovery analysis performed in [Hadjimichael et al. (2020)](https://agupubs.onlinelibrary.wiley.com/doi/abs/10.1029/2020EF001503).\n",
    "\n",
    "## Background\n",
    "Planners in the the Upper Colorado River Basin (UCRB, shown in the figure below) are seeking to understand the vulnerability of water users to uncertainties stemming from climate change, population growth and water policy changes. The UCRB spans 25,682 km<sup>2</sup> in western Colorado and is home to approximately 300,000 residents and 1,012 km<sup>2</sup> of irrigated land. Several thousand irrigation ditches divert water from the main river and its tributaties for irrigation (shown as small black dots in the figure). Transmountain diversions of approximately 567,4000,000 m<sup>3</sup> per year are exported for irrigation, industrial and municipal uses in northern and eastern Colorado, serving the major population centers of Denver and Colorado Springs. These diversions are carried through tunnels, shown as large black dots in the figure.\n",
    "\n",
    "An important planning consideration is the water rights of each user, defined by seniority across all water uses (irrigation diversions, transboundary diversions, power plants etc.) in the basin. To assess the vulnerability of users with varying degrees of water rights seniority, planners simulate the system across an ensemble of scenarios using the state of Colorado's StateMod platform. The model simulates streamflow, diversions, instream demands, and reservoir operations. \n",
    "\n",
    "<img src=\"./figs/basin_map.png\" width=\"600\">"
   ]
  },
  {
   "cell_type": "markdown",
   "metadata": {},
   "source": [
    "Focusing on decision-relevant metrics, the scenario discovery is applied to the water shortages experienced by each individual user (i.e., not on a single basin-wide or sector-wide metric). For this training example, we'll be performing scenario discovery for three different water users, two irrigation users and one municipal user.\n",
    "\n",
    "\n",
    "\n",
    "Before we start our analysis, we'll load the relevant Python libraries and create lists storing the names of the users of interest."
   ]
  },
  {
   "cell_type": "code",
   "execution_count": null,
   "metadata": {
    "collapsed": false,
    "jupyter": {
     "outputs_hidden": false
    },
    "pycharm": {
     "name": "#%%\n"
    }
   },
   "outputs": [],
   "source": [
    "import msdbook\n",
    "\n",
    "import numpy as np\n",
    "import pandas as pd\n",
    "import matplotlib as mpl\n",
    "import matplotlib.pyplot as plt\n",
    "\n",
    "all_IDs = ['7000550','7200799','3704614'] # IDs for three that we will perform the analysis for\n",
    "usernames = ['Medium seniority irrigation',\n",
    "             'Low seniority irrigation',\n",
    "             'Transbasin municipal diversion']\n",
    "nStructures = len(all_IDs)\n"
   ]
  },
  {
   "cell_type": "markdown",
   "metadata": {
    "pycharm": {
     "name": "#%% md\n"
    }
   },
   "source": [
    "## Step 1:  Load Latin Hypercube Sample and set up problem\n",
    "To examine regional vulnerability, we generate an ensemble of plausible future states of the worlds (SOWs) using Latin Hypercube Sampling. For this tutorial, we'll load a file containing 1,000 parameter samples. "
   ]
  },
  {
   "cell_type": "code",
   "execution_count": null,
   "metadata": {
    "collapsed": false,
    "jupyter": {
     "outputs_hidden": false
    },
    "pycharm": {
     "name": "#%%\n"
    }
   },
   "outputs": [],
   "source": [
    "LHsamples = msdbook.load_lhs_basin_sample()\n",
    "param_bounds = msdbook.load_basin_param_bounds()\n",
    "\n",
    "param_names=['Irrigation demand multiplier','Reservoir loss','Transbasin demand multiplier',\n",
    "             'Municipal & industrial multiplier', 'Shoshone','Environmental flows',\n",
    "             'Evaporation change','Mean dry flow','Dry flow variance',\n",
    "             'Mean wet flow','Wet flow variance','Dry-dry probability',\n",
    "             'Wet-wet probability', 'Snowmelt shift']\n"
   ]
  },
  {
   "cell_type": "markdown",
   "metadata": {},
   "source": [
    "## Step 2: Define decision-relevant metrics for illustration\n",
    "Scenario discovery attempts to identify parametric regions that lead to 'success' and 'failure'. For this demonstration we'll be defining 'success' as states of the world where a shortage level doesn't exceed its historical frequency."
   ]
  },
  {
   "cell_type": "markdown",
   "metadata": {},
   "source": [
    "## Step 3: Run the logistic regression\n",
    "Logistic regression estimates the probability that a future SOW will be classified as a success or failure given a set of performance criteria. A logistic regression model is defined by:\n",
    "\n",
    "$$ln \\bigg (\\frac{p_i}{1-p_i} \\bigg ) = X^T_i \\beta$$\n",
    "\n",
    "where $p_i$ is the probability the performance in the $i^{th}$ SOW will be classified as a success, $X_i$ is the vector of covariates describing the $i^{th}$ SOW, and $\\beta$ is the vector of coefficients describing the relationship between the covariates and the response, which here will be estimated using maximum likelihood estimation. \n",
    "\n",
    "A logistic regression model was fit to the ensemble of SOWs using the performance criteria defined in step 2. Logistic regression modeling was conducted using the [Statsmodel Python](https://www.statsmodels.org/stable/index.html) package. The data required for the full analysis is too large to include in this tutorial, but results can be found in the data file loaded below.\n",
    "\n",
    "The results files contain the occurence of different frequency and magnitude combinations under the experiment, in increments of 10, between 0 and 100. These combinations (100 for each user) are alternative decision-relevant metrics that can be used for scenario discovery. "
   ]
  },
  {
   "cell_type": "code",
   "execution_count": null,
   "metadata": {},
   "outputs": [],
   "source": [
    "# Set arrays for shortage frequencies and magnitudes\n",
    "frequencies = np.arange(10, 110, 10)\n",
    "magnitudes = np.arange(10, 110, 10)\n",
    "realizations = 10\n",
    "\n",
    "\n",
    "# Load performance and pseudo r scores for each of the users\n",
    "results = [msdbook.load_user_heatmap_array(all_IDs[i]) / 100 for i in range(len(all_IDs))]\n"
   ]
  },
  {
   "cell_type": "markdown",
   "metadata": {},
   "source": [
    "## Step 4: Factor ranking\n",
    "To rank the importance of each uncertain factor, we utilize McFadden's psuedo-R<sup>2</sup>, a measure that quantifies the improvement of the model when utilizing each given predictor as compared to prediction using the mean of the data set:\n",
    "\n",
    "$$R^2_{McFadden}=1-\\frac{ln \\hat{L}(M_{full})}{ln \\hat{L}(M_{intercept})}$$\n",
    "\n",
    "Where $ln \\hat{L}(M_{full})$ is the log likelihood of the full model (including the predictor) and $ln \\hat{L}(M_{intercept})$ is the log likelihood of the intercept model (which predicts the mean probability of success across all SOWs). \n",
    "\n",
    "Higher values of McFadden's psuedo-R<sup>2</sup> indicate higher factor importance (when the likelihood of the full model approaches one, the ratio of the likelihood of the full model compared to the intercept model will get very small).\n",
    "\n",
    "\n"
   ]
  },
  {
   "cell_type": "code",
   "execution_count": null,
   "metadata": {
    "collapsed": false,
    "jupyter": {
     "outputs_hidden": false
    },
    "pycharm": {
     "name": "#%%\n"
    }
   },
   "outputs": [],
   "source": [
    "scores = [msdbook.load_user_pseudo_scores(all_IDs[i]) for i in range(len(all_IDs))]\n",
    "\n",
    "freq = [1,0,0]\n",
    "mag = [7,3,7]\n"
   ]
  },
  {
   "cell_type": "markdown",
   "metadata": {},
   "source": [
    "## Step 5: Draw factor maps\n",
    "\n",
    "The McFadden's psuedo-R<sup>2</sup> scores files contain preliminary logistic regression results on parameter importance for each of these combinations. Using these psuedo-R<sup>2</sup> scores we will identify the two most important factors for each metric which we'll use to generate the final scenario discovery maps (note: there may be more than two important metrics for each user, but here we will demonstrate by mapping two)."
   ]
  },
  {
   "cell_type": "code",
   "execution_count": null,
   "metadata": {
    "collapsed": false,
    "jupyter": {
     "outputs_hidden": false
    },
    "pycharm": {
     "name": "#%%\n"
    }
   },
   "outputs": [],
   "source": [
    "fig, axes = plt.subplots(3,1, figsize=(6,18), tight_layout=True)\n",
    "fig.patch.set_facecolor('white')\n",
    "\n",
    "for i in range(len(axes.flat)):\n",
    "    \n",
    "    ax = axes.flat[i]\n",
    "    \n",
    "    allSOWsperformance = results[i]\n",
    "    all_pseudo_r_scores = scores[i]\n",
    "    \n",
    "    # construct dataframe\n",
    "    dta = pd.DataFrame(data=np.repeat(LHsamples, realizations, axis = 0), columns=param_names)\n",
    "    dta['Success'] = allSOWsperformance[freq[i],mag[i],:]\n",
    "    \n",
    "    pseudo_r_scores = all_pseudo_r_scores[str(frequencies[freq[i]])+'yrs_'+str(magnitudes[mag[i]])+'prc'].values\n",
    "    top_predictors = np.argsort(pseudo_r_scores)[::-1][:2] #Sort scores and pick top 2 predictors\n",
    "    \n",
    "    # define color map for dots representing SOWs in which the policy\n",
    "    # succeeds (light blue) and fails (dark red)\n",
    "    dot_cmap = mpl.colors.ListedColormap(np.array([[227,26,28],[166,206,227]])/255.0)\n",
    "    \n",
    "    # define color map for probability contours\n",
    "    contour_cmap = mpl.cm.get_cmap('RdBu')\n",
    "    \n",
    "    # define probability contours\n",
    "    contour_levels = np.arange(0.0, 1.05,0.1)\n",
    "    \n",
    "    # define base values of the predictors\n",
    "    SOW_values = np.array([1,1,1,1,0,0,1,1,1,1,1,0,0,0]) # default parameter values for base SOW\n",
    "    base = SOW_values[top_predictors]\n",
    "    ranges = param_bounds[top_predictors]\n",
    "    \n",
    "    # define grid of x (1st predictor), and y (2nd predictor) dimensions\n",
    "    # to plot contour map over\n",
    "    xgrid = np.arange(param_bounds[top_predictors[0]][0],\n",
    "                      param_bounds[top_predictors[0]][1], np.around((ranges[0][1]-ranges[0][0])/500,decimals=4))\n",
    "    ygrid = np.arange(param_bounds[top_predictors[1]][0],\n",
    "                      param_bounds[top_predictors[1]][1], np.around((ranges[1][1]-ranges[1][0])/500,decimals=4))\n",
    "    all_predictors = [ dta.columns.tolist()[i] for i in top_predictors]\n",
    "    dta['Interaction'] = dta[all_predictors[0]]*dta[all_predictors[1]]\n",
    "    \n",
    "    # logistic regression here\n",
    "    predictor_list = [all_predictors[i] for i in [0,1]]\n",
    "    result = msdbook.fit_logit(dta, predictor_list)\n",
    "    \n",
    "    # plot contour map\n",
    "    contourset = msdbook.plot_contour_map(ax, result, dta, contour_cmap,\n",
    "                                          dot_cmap, contour_levels, xgrid,\n",
    "                                          ygrid, all_predictors[0], all_predictors[1], base)\n",
    "    \n",
    "    ax.set_title(usernames[i])\n",
    "    \n",
    "# set up colorbar\n",
    "cbar_ax = fig.add_axes([0.98, 0.15, 0.05, 0.7])\n",
    "cbar = fig.colorbar(contourset, cax=cbar_ax)\n",
    "cbar_ax.set_ylabel('Probability of Success', fontsize=16)\n",
    "cbar_ax.tick_params(axis='y', which='major', labelsize=12)\n"
   ]
  },
  {
   "cell_type": "markdown",
   "metadata": {},
   "source": [
    "The figure above demonstrates how different combinations of the uncertain factors lead to success or failure in different states of the world, which are denoted by the blue and red dots. The probability of success and failure are further denoted by the contours in the figure. Several insights can be drawn from this figure.\n",
    "\n",
    "First, using metrics chosen to be decision-relevant (specific to each\n",
    "user) causes different factors to be identified as most important by this scenario-discovery\n",
    "exercise (the x- and y-axes for each of the subplots). In other words, depending\n",
    "on what the decision makers of this system want to prioritize they might choose to\n",
    "monitor different uncertain factors to track performance.\n",
    "\n",
    "Second, in the top panel, the two identified factors appear to also have an interactive\n",
    "effect on the metric used (shortages of a certain level and frequency in this example).\n",
    "In terms of scenario discovery, the Patient Rule Induction Method (PRIM) or Classification\n",
    "And Regression Trees (CART) would not be able to delineate this non-linear space and\n",
    "would therefore misclassify parameter combinations as 'desirable' when they were in\n",
    "fact undesirable, and vice versa.\n",
    "\n",
    "Lastly, logistic regression also produces contours of probability of success, i.e.\n",
    "different factor-value combinations are assigned different probabilities that a\n",
    "shortage level will be exceeded. This allows the decision makers to evaluate these\n",
    "insights while considering their risk aversion."
   ]
  }
 ],
 "metadata": {
  "kernelspec": {
   "display_name": "py3.9.4_msd",
   "language": "python",
   "name": "py3.9.4_msd"
  },
  "language_info": {
   "codemirror_mode": {
    "name": "ipython",
    "version": 3
   },
   "file_extension": ".py",
   "mimetype": "text/x-python",
   "name": "python",
   "nbconvert_exporter": "python",
   "pygments_lexer": "ipython3",
   "version": "3.9.4"
  }
 },
 "nbformat": 4,
 "nbformat_minor": 4
}
