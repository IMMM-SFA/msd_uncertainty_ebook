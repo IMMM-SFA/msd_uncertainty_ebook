{
 "cells": [
  {
   "cell_type": "markdown",
   "id": "6a0e2975",
   "metadata": {
    "slideshow": {
     "slide_type": "slide"
    }
   },
   "source": [
    "# B.6 A Hidden-Markov Modeling Approach to Creating Synthetic Streamflow Scenarios"
   ]
  },
  {
   "cell_type": "markdown",
   "id": "4c4ff060",
   "metadata": {
    "slideshow": {
     "slide_type": "subslide"
    }
   },
   "source": [
    "In this notebook, we will be covering the basics of fitting a Hidden Markov Model-based synthetic streamflow generator for a single site in the Upper Colorado River Basin. First, we will characterize the observed historical flow in the basin from 1909-2013. Then, we will fit a synthetic streamflow generator to the observed flows in the basin in order to create stationary synthetic flows. Finally, we will create a non-stationary version of the generator to create flows that could be representative of plausible future climate in the region. We ultimately show how to place the synthetically generated flows in the context of physically-informed CMIP5 projections to compare the two methods.  "
   ]
  },
  {
   "cell_type": "markdown",
   "id": "f9d33f6d",
   "metadata": {
    "slideshow": {
     "slide_type": "slide"
    }
   },
   "source": [
    "## B6.1 Background"
   ]
  },
  {
   "cell_type": "markdown",
   "id": "de7e457b",
   "metadata": {
    "slideshow": {
     "slide_type": "subslide"
    }
   },
   "source": [
    "In the Western United States, and particularly the Colorado River Basin, a recent study used tree-ring reconstructions to suggest that the megadrought that has been occurring in the Southwest over the past 22 years is the regions worst drought since about 800 AD (Williams et al., 2022). The study's lead author, UCLA climatologist Park Williams, suggested that had the sequence of wet-dry years occurred without anthropogenic forcing, the 2000s would have likely still been dry, but not on the same level as the worst of the last millennium’s megadroughts.\n",
    "\n",
    "The recent trend of warming and reduced soil moisture in the SW is becoming extremely problematic from a water systems planning and management perspective for the Colorado River Basin. It has becoming rapidly clear that the river is completely over-allocated and won't be able to sustain flow requirements as dictated by the Colorado Compact. Thus, there has been an increasing focus in understanding how susceptible water systems in this region are to plausible future streamflow scenarios. In this tutorial, we'll discuss how to create these scenarios using a Hidden Markov Model (HMM)- based synthetic generator. As discussed in [Section 2.1](https://uc-ebook.org/docs/html/2_diagnostic_modeling_overview_and_perspectives.html#overview-of-model-diagnostics) and [4.2](https://uc-ebook.org/docs/html/4_sensitivity_analysis_diagnostic_and_exploratory_modeling.html#consequential-dynamics-what-is-controlling-model-behaviors-of-interest) of the eBook, future climate conditions in the basin represent a deep uncertainty that can lead to highly consequential results. It is advantageous to create a model such as the HMM-based generator in order to facilitate the creation of many ensembles of streamflow that can ultimately be used to force regional water systems models to understand how characteristics of these ensembles affect regional water shortages, operations, and policies.    \n",
    "\n",
    "\n"
   ]
  },
  {
   "cell_type": "markdown",
   "id": "bea54180",
   "metadata": {
    "slideshow": {
     "slide_type": "subslide"
    }
   },
   "source": [
    "<figure>\n",
    "<center><img src=\"figs/1-lede_pix_-_usbr-powell-8517152024_aa66437c2e_o-cropped.jpg\" style=\"width:50%\"></center>\n",
    "<figcaption style=\"text-align:center\"> Lake Powell shows persistent effects from drought (Source: U.S. Bureau of Reclamation) </figcaption>\n",
    "</figure>\n"
   ]
  },
  {
   "cell_type": "markdown",
   "id": "f573f0ed",
   "metadata": {
    "slideshow": {
     "slide_type": "slide"
    }
   },
   "source": [
    "# Let's Get Started!"
   ]
  },
  {
   "cell_type": "markdown",
   "id": "081d0c27",
   "metadata": {
    "slideshow": {
     "slide_type": "subslide"
    }
   },
   "source": [
    "## B6.2 Observed Record"
   ]
  },
  {
   "cell_type": "markdown",
   "id": "91c9dd70",
   "metadata": {
    "slideshow": {
     "slide_type": "subslide"
    }
   },
   "source": [
    "First let's take a look at the observed data from 1909-2013 for a specific site. In this example, we use the outlet gauge of the Upper Colorado River (USGS Gauge 09163500 at the Colorado-Utah state line). Below we create a plot of the annual streamflow."
   ]
  },
  {
   "cell_type": "code",
   "execution_count": null,
   "id": "c5bb251d-8c0a-4a34-bc01-2acc727f084b",
   "metadata": {},
   "outputs": [],
   "source": [
    "# Import libraries\n",
    "import matplotlib as mpl\n",
    "import matplotlib.pyplot as plt\n",
    "import matplotlib.patches as patches\n",
    "import numpy as np\n",
    "import pandas as pd\n",
    "from random import random\n",
    "from SALib.sample import latin\n",
    "from scipy import stats as ss\n",
    "import statistics \n",
    "import statsmodels.api as sm\n",
    "\n",
    "# Import helper functions from local package \n",
    "from functions import fitmodel\n",
    "from functions import plotstates\n",
    "from functions import plotdist\n"
   ]
  },
  {
   "cell_type": "code",
   "execution_count": null,
   "id": "2a2efc85",
   "metadata": {
    "ExecuteTime": {
     "end_time": "2022-10-29T19:15:34.379971Z",
     "start_time": "2022-10-29T19:15:34.121933Z"
    },
    "slideshow": {
     "slide_type": "subslide"
    }
   },
   "outputs": [],
   "source": [
    "# Read in annual historical data\n",
    "AnnualQ = pd.read_csv('data/uc_historical.csv')\n",
    "AnnualQ['Year'] = list(range(1909, 2014))\n",
    "\n",
    "# Plot a line graph\n",
    "fig, ax = plt.subplots()\n",
    "ax.plot(AnnualQ.iloc[:, 1],\n",
    "        AnnualQ.iloc[:, 0],\n",
    "        color='#005F73',\n",
    "        label='Annual')\n",
    "\n",
    "# Add labels and title\n",
    "ax.set_title(\"Upper Colorado Annual Flow\")\n",
    "ax.set_xlabel(\"Year\", fontsize=16)\n",
    "ax.set_ylabel(\"Annual Flow (cubic feet per year)\", fontsize=16)\n",
    "plt.xticks(fontsize=12)\n",
    "plt.yticks(fontsize=12)\n",
    "mpl.rcParams['figure.figsize'] = [12, 8]\n",
    "mpl.rc('legend', fontsize=16)\n",
    "legend = plt.legend() \n"
   ]
  },
  {
   "cell_type": "markdown",
   "id": "9a2ea4a8",
   "metadata": {
    "slideshow": {
     "slide_type": "subslide"
    }
   },
   "source": [
    "Let's calculate an 11-year rolling mean of the same data to get a sense of long-term trends. "
   ]
  },
  {
   "cell_type": "code",
   "execution_count": null,
   "id": "581553f5",
   "metadata": {
    "ExecuteTime": {
     "end_time": "2022-10-29T19:12:38.198565Z",
     "start_time": "2022-10-29T19:12:37.996278Z"
    },
    "slideshow": {
     "slide_type": "subslide"
    }
   },
   "outputs": [],
   "source": [
    "# Plot the original line graph\n",
    "plt.plot(AnnualQ.iloc[:,1],\n",
    "         AnnualQ.iloc[:,0],\n",
    "         color='#005F73',\n",
    "         label='Annual')\n",
    "\n",
    "# Plot an 11-year rolling mean \n",
    "plt.plot(AnnualQ.iloc[:, 1].rolling(11).mean(),\n",
    "         AnnualQ.iloc[:, 0].rolling(11).mean(),\n",
    "         color='#0A9369',\n",
    "         label='11-Year Rolling Mean')\n",
    "\n",
    "# Add labels and title\n",
    "plt.title(\"Upper Colorado Annual Flow\")\n",
    "ax.set_xlabel(\"Year\",fontsize=16)\n",
    "ax.set_ylabel(\"Annual Flow (cubic feet per year)\", fontsize=16)\n",
    "plt.xticks(fontsize=12)\n",
    "plt.yticks(fontsize=12)\n",
    "mpl.rcParams['figure.figsize'] = [12, 8]\n",
    "mpl.rc('legend', fontsize=16)\n",
    "legend = plt.legend() \n"
   ]
  },
  {
   "cell_type": "markdown",
   "id": "36afc2f1",
   "metadata": {
    "slideshow": {
     "slide_type": "subslide"
    }
   },
   "source": [
    "The Colorado Compact, which presecribes flows between the Upper and Lower Colorado Basins, was negotiated using data prior to 1922, a time period revealed by the above figure to be one of the consistency wetter periods on record. It's clear today that since the 1980s, the Southwest has been experiencing imminent arridification and that this observed record alone isn't an accurate representation of what future climate might look like in this region."
   ]
  },
  {
   "cell_type": "markdown",
   "id": "bab8e31f",
   "metadata": {
    "slideshow": {
     "slide_type": "subslide"
    }
   },
   "source": [
    "Let's get a little more specific and formally quantify decadal droughts that have occured in the observed period. We use a metric proposed in Ault et al. (2014). The authors define a decadal drought as when the 11-year rolling mean falls below a threshold that is 1/2 a standard deviation below the overall mean of the record. We can then highlight the block of years that fall in a decadal drought using yellow rectangles below."
   ]
  },
  {
   "cell_type": "code",
   "execution_count": null,
   "id": "cd6987cb",
   "metadata": {
    "ExecuteTime": {
     "end_time": "2022-10-29T19:12:38.464634Z",
     "start_time": "2022-10-29T19:12:38.233955Z"
    }
   },
   "outputs": [],
   "source": [
    "# Define drought threshold \n",
    "std = statistics.stdev(AnnualQ.iloc[:, 0])\n",
    "threshold = np.mean(AnnualQ.iloc[:, 0] - (0.5 * std))\n",
    "\n",
    "# Find where the rolling mean dip below the threshold?\n",
    "drought_instances = [i for i, v in enumerate(AnnualQ.iloc[:,0].rolling(11).mean()) if v < threshold]\n",
    "drought_years = AnnualQ.iloc[:, 1].rolling(11).mean()[drought_instances]\n",
    "\n",
    "# Add labels and title\n",
    "fig, ax = plt.subplots()\n",
    "ax.plot(AnnualQ.iloc[:,1],\n",
    "        AnnualQ.iloc[:,0],\n",
    "        color='#005F73',\n",
    "        label='Annual') \n",
    "\n",
    "ax.plot(AnnualQ.iloc[:,1].rolling(11,center=True).mean(),\n",
    "        AnnualQ.iloc[:,0].rolling(11,center=True).mean(),\n",
    "        color='#0A9369',\n",
    "        label='11-Year Rolling Mean')\n",
    "\n",
    "ax.axhline(y=threshold, \n",
    "           color='black', \n",
    "           linestyle='--',\n",
    "           label='Drought Threshold')\n",
    "\n",
    "# Visualize the drought periods as yellow rectangles\n",
    "for i in drought_years:\n",
    "    \n",
    "    # Plot a box centered around those values and with 5 years on either side.\n",
    "    rect = patches.Rectangle((i-5,0), 11,2e7, linewidth=1, edgecolor='yellow', facecolor='gold')\n",
    "    \n",
    "    # Add the patch to the Axes\n",
    "    ax.add_patch(rect)\n",
    "    \n",
    "    \n",
    "plt.title(\"Upper Colorado Annual Flow\")\n",
    "ax.set_xlabel(\"Year\", fontsize=16)\n",
    "ax.set_ylabel(\"Annual Flow (cubic feet per year)\", fontsize=16)\n",
    "plt.xticks(fontsize=12)\n",
    "plt.yticks(fontsize=12)\n",
    "mpl.rcParams['figure.figsize'] = [12, 8]\n",
    "mpl.rc('legend', fontsize=16)\n",
    "legend = plt.legend() \n"
   ]
  },
  {
   "cell_type": "markdown",
   "id": "874d0870",
   "metadata": {},
   "source": [
    "By this metric, the Upper Colorado Basin region has experienced two decadal droughts historically. "
   ]
  },
  {
   "cell_type": "markdown",
   "id": "d4be21bc",
   "metadata": {},
   "source": [
    "## B6.3 Synthetic Stationary Generator to Better Quantify Natural Variability"
   ]
  },
  {
   "cell_type": "markdown",
   "id": "3f12a249",
   "metadata": {},
   "source": [
    "It is important to remember that streamflow that we have observed in the region is only one instance of hydrology that can occur since the atmosphere is an inherently stochastic system. Thus, we require a tool that will allow us to see multiple plausible realizations of the same variability that characterizes the historical period. The tool that we use to develop synthetic flows for the region is a Gaussian Hidden Markov Model (HMM). If a system follows a Markov process, it switches between a number of \"hidden states\" dictated by a transition matrix. Each state has its own Gaussian probability distribution (defined by a mean and standard deviation) and one can draw from this distribution to create synthetic flows that fit the properties of the historical distribution. HMMs are an attractive choice for this region because they can simulate long persistence, particularly long droughts, which is characteristic of the region. The figure below shows an example of a 2-state Gaussian HMM that we will be fitting for this example.\n",
    "\n",
    "<figure>\n",
    "    <center><img src=\"figs/HMM_example.png\" style=\"width:75%\"></center>\n",
    "<figcaption style=\"text-align:center\"> Two-state Gaussian HMM with mean and standard deviation parameters</figcaption>\n",
    "</figure>\n"
   ]
  },
  {
   "cell_type": "markdown",
   "id": "0652de5f",
   "metadata": {},
   "source": [
    "Below is the code that fits the HMM model to the last 2/3 of the historical record of log annual flows at the CO-UT stateline gauge and creates an alternative trace of 105 years. A subset of the dataset is chosen in order to minimize overfitting and to retain a set of data for validation of the model. When we fit our model, we utilize the Baum-Welch algorithm (a special version of the expectation-maximization algorithm) to find the optimal parameters that maximize the likelihood of seeing the observed flows. Ultimately the algorithm will return a mean and standard deviation associated with each state (mus and sigmas defined below) and a 2x2 transition probability matrix that captures the likelihood of transitioning between states (P). We can also retrieve the annual hidden states across the observed series, also known as the Viterbi sequence of states, which classifies each year in a \"wet\" or \"dry\" state. "
   ]
  },
  {
   "cell_type": "code",
   "execution_count": null,
   "id": "4e3ba557",
   "metadata": {
    "ExecuteTime": {
     "end_time": "2022-10-29T19:12:39.834627Z",
     "start_time": "2022-10-29T19:12:39.142609Z"
    }
   },
   "outputs": [],
   "source": [
    "# Number of years for alternative trace\n",
    "n_years = 105\n",
    "\n",
    "# Import historical data that it used to fit HMM model \n",
    "AnnualQ_h = pd.read_csv('data/uc_historical.csv')\n",
    "\n",
    "# Fit the model and pull out relevant parameters and samples \n",
    "logQ = np.log(AnnualQ_h)\n",
    "hidden_states, mus, sigmas, P, logProb, samples, model = fitmodel.fitHMM(logQ, n_years)\n"
   ]
  },
  {
   "cell_type": "markdown",
   "id": "916ffd0d",
   "metadata": {},
   "source": [
    "We've fit our HMM, but what does the model look like? Let’s plot the annual time series of hidden states, or the Viterbi sequence. In the code, above, we have defined that the drier state is always represented by state 0. Thus, we know that hidden_states = 0 corresponds to the dry state and hidden_states = 1 to the wet state."
   ]
  },
  {
   "cell_type": "code",
   "execution_count": null,
   "id": "6bdf7d79",
   "metadata": {
    "ExecuteTime": {
     "end_time": "2022-10-29T19:12:40.327318Z",
     "start_time": "2022-10-29T19:12:39.900787Z"
    }
   },
   "outputs": [],
   "source": [
    "# Plot Vitebi sequence \n",
    "plotstates.plotTimeSeries(np.log(AnnualQ.iloc[:,0]), hidden_states, 'log(Flow at State Line)')\n"
   ]
  },
  {
   "cell_type": "markdown",
   "id": "d8935cb0",
   "metadata": {},
   "source": [
    "In the figure above, we see that the years with the higher log flows tend to be classified in a \"wet\" state and the opposite is true of the \"dry\" state. We can also print the transition matrix, which shows the likelihood of transitioning between states. Note that the system has a high likelihood of persisting in the same state."
   ]
  },
  {
   "cell_type": "code",
   "execution_count": null,
   "id": "9b727bb4",
   "metadata": {
    "ExecuteTime": {
     "end_time": "2022-10-29T19:12:42.552956Z",
     "start_time": "2022-10-29T19:12:42.534835Z"
    }
   },
   "outputs": [],
   "source": [
    "print(model.transmat_)"
   ]
  },
  {
   "cell_type": "markdown",
   "id": "38b1d94e",
   "metadata": {},
   "source": [
    "Let's also plot the distribution of the wet and dry state."
   ]
  },
  {
   "cell_type": "code",
   "execution_count": null,
   "id": "c0663d00",
   "metadata": {
    "ExecuteTime": {
     "end_time": "2022-10-29T19:12:43.350009Z",
     "start_time": "2022-10-29T19:12:43.150537Z"
    }
   },
   "outputs": [],
   "source": [
    "# Plot wet and dry state distributions\n",
    "plotdist.plotDistribution(logQ, mus, sigmas, P)\n"
   ]
  },
  {
   "cell_type": "markdown",
   "id": "4a1ec724",
   "metadata": {},
   "source": [
    "The wet state distribution is characterized by a greater mean flow, but note that there is significant overlap in the tails of the distributions below which demonstrates why years with similiar flows can be classified in different states. "
   ]
  },
  {
   "cell_type": "markdown",
   "id": "3ad5b369",
   "metadata": {},
   "source": [
    "Now let's see what the drought dynamics look like in the synthetic scenario that we created using the same definition that we had used for the historical period."
   ]
  },
  {
   "cell_type": "code",
   "execution_count": null,
   "id": "b2c7ce85",
   "metadata": {
    "ExecuteTime": {
     "end_time": "2022-10-29T19:12:46.128219Z",
     "start_time": "2022-10-29T19:12:45.807649Z"
    }
   },
   "outputs": [],
   "source": [
    "# Retrieve samples and back-transform out of log space\n",
    "AnnualQ_s = np.exp(samples[0])\n",
    "AnnualQ_s = pd.DataFrame(AnnualQ_s)\n",
    "AnnualQ_s['Year'] = list(range(1909, 2014))\n",
    "\n",
    "# Define drought threshold \n",
    "std=statistics.stdev(AnnualQ_s.iloc[:, 0])\n",
    "threshold=np.mean(AnnualQ_s.iloc[:, 0] - (0.5 * std))\n",
    "\n",
    "# Where does the rolling mean dip below the threshold\n",
    "drought_instances = [i for i,v in enumerate(AnnualQ_s.iloc[:, 0].rolling(11).mean()) if v < threshold]\n",
    "drought_years = AnnualQ_s.iloc[:, 1].rolling(11).mean()[drought_instances]\n",
    "\n",
    "#Visualize the streamflow scenario\n",
    "fig, ax = plt.subplots()\n",
    "\n",
    "#Plot the original line graph\n",
    "ax.plot(AnnualQ_s.iloc[:,1],\n",
    "        AnnualQ_s.iloc[:,0],\n",
    "        color='#005F73',\n",
    "        label='Annual')\n",
    "\n",
    "#Plot a 11-year rolling mean \n",
    "ax.plot(AnnualQ_s.iloc[:,1],\n",
    "        AnnualQ_s.iloc[:,0].rolling(11, center=True).mean(),\n",
    "        color='#0A9369',\n",
    "        label='11-Year Rolling Mean')\n",
    "\n",
    "# Add labels and title\n",
    "ax.axhline(y=threshold, \n",
    "           color='black', \n",
    "           linestyle='--',\n",
    "           label='Drought Threshold')\n",
    "\n",
    "\n",
    "for i in drought_years:\n",
    "    \n",
    "    #Plot a box centered around those values and with 5 years on either side.\n",
    "    rect = patches.Rectangle((i - 5,\n",
    "                              0), \n",
    "                              11,\n",
    "                              2e7, \n",
    "                              linewidth=1, \n",
    "                              edgecolor='yellow', \n",
    "                              facecolor='gold')\n",
    "    \n",
    "    # Add the patch to the Axes\n",
    "    ax.add_patch(rect)\n",
    "    \n",
    "    \n",
    "plt.title(\"Upper Colorado Annual Flow (Synthetic Stationary)\",fontsize=16)\n",
    "plt.xlabel(\"Year\", fontsize=16)\n",
    "plt.ylabel(\"Annual Flow (cubic feet per year)\", fontsize=16)\n",
    "mpl.rc('legend', fontsize=16)\n",
    "plt.legend() \n",
    "plt.xticks(fontsize=12)\n",
    "plt.yticks(fontsize=12)\n",
    "mpl.rcParams['figure.figsize'] = [12, 8]\n"
   ]
  },
  {
   "cell_type": "markdown",
   "id": "d674d6da",
   "metadata": {},
   "source": [
    "You can sample from the model and create more 105-year traces and note how the location and number of decadal droughts changes. This demonstrates how different the historical record can look just within the range of natural variability. It's also important to remember that when droughts occur can also define the ultimate effect of the drought (i.e. is it a time when there is a large population growth or a time when humans can adapt by conserving or building more infrastructure?). A hydrologic drought need not manifest into an agricultural or operational drought of the same magnitude if stored surface water is available. "
   ]
  },
  {
   "cell_type": "markdown",
   "id": "f61ddadb",
   "metadata": {},
   "source": [
    "## B6.4 Non-Stationary Synthetic Generator to Impose Climate Changes"
   ]
  },
  {
   "cell_type": "markdown",
   "id": "72f15114",
   "metadata": {},
   "source": [
    "Now, we create flows under non-stationary conditions to get a better understanding of what flows can look like under climate changes. In order to create flows under non-stationary conditions, we can toggle the parameters of the HMM model in order to create systematic changes to the model that can represent a changing climate. The HMM has 6 parameters that define it. When we fit the historical model, the parameters that are fit represent a baseline parameter value. In this non-stationary generator, we define a range to sample these parameters from.\n",
    "\n",
    "| Parameter | Current Value | Lower Bound | Upper Bound |\n",
    "| :- | -: | :-: | :-: |\n",
    "| Log-Space Wet State Mean Multiplier |1.00|0.98|1.02|\n",
    "| Log-Space Dry State Mean Multiplier |1.00|0.98|1.02|\n",
    "| Log-Space Wet State Standard Deviation Multiplier |1.00|0.75|1.25|\n",
    "| Log-Space Dry State Standard Deviation Multiplier |1.00|0.75|1.25|\n",
    "| Change in Dry-Dry Transition Probability |0.00|-0.30|+0.30|\n",
    "| Change in Wet-Wet Transition Probability |0.00|-0.30|+0.30|\n"
   ]
  },
  {
   "cell_type": "markdown",
   "id": "1119489a",
   "metadata": {},
   "source": [
    "Now let's sample 1000 times from these bounds to create 1000 new parameterizations of the model. Here we use SALib and the Latin Hypercube sample function. "
   ]
  },
  {
   "cell_type": "code",
   "execution_count": null,
   "id": "a43963b7",
   "metadata": {
    "ExecuteTime": {
     "end_time": "2022-10-29T19:12:50.789418Z",
     "start_time": "2022-10-29T19:12:50.718835Z"
    },
    "scrolled": true
   },
   "outputs": [],
   "source": [
    "# Create problem structure with parameters that we want to sample \n",
    "problem = {\n",
    "    'num_vars': 6,\n",
    "    'names': ['wet_mu', 'dry_mu', 'wet_std','dry_std','dry_tp',\"wet_tp\"],\n",
    "    'bounds': [[0.98, 1.02],\n",
    "               [0.98, 1.02],\n",
    "               [0.75,1.25],\n",
    "               [0.75,1.25],\n",
    "               [-0.3,0.3],\n",
    "               [-0.3,0.3]]\n",
    "}\n",
    "\n",
    "# generate 1000 parameterizations\n",
    "n_samples = 1000\n",
    "\n",
    "# set random seed for reproducibility\n",
    "seed_value = 123\n",
    "\n",
    "# Generate our samples \n",
    "LHsamples = latin.sample(problem, n_samples, seed_value)\n"
   ]
  },
  {
   "cell_type": "markdown",
   "id": "944bf239",
   "metadata": {},
   "source": [
    "Now let's look at what some of the traces look like in our non-stationary generator. Let's choose a random instance from the 1000-member space and adjust the parameters accordingly."
   ]
  },
  {
   "cell_type": "code",
   "execution_count": null,
   "id": "3beafd60",
   "metadata": {
    "ExecuteTime": {
     "end_time": "2022-10-29T19:12:51.577320Z",
     "start_time": "2022-10-29T19:12:51.551390Z"
    }
   },
   "outputs": [],
   "source": [
    "# Define static parameters \n",
    "n_years = 105\n",
    "\n",
    "# Sample parameter; Adjust to any sample number from 0-999 \n",
    "sample = 215 \n",
    "\n",
    "# Create empty arrays to store the new Gaussian HMM parameters for each SOW\n",
    "Pnew = np.empty([2,2])\n",
    "piNew = np.empty([2])\n",
    "musNew_HMM = np.empty([2])\n",
    "sigmasNew_HMM = np.empty([2])\n",
    "logAnnualQ_s = np.empty([n_years]) \n",
    "\n",
    "# Calculate new transition matrix and stationary distribution of SOW at last node as well as new means and standard deviations\n",
    "Pnew[0, 0] = max(0.0, min(1.0, P[0, 0] + LHsamples[sample][4]))\n",
    "Pnew[1, 1] = max(0.0, min(1.0, P[1, 1] + LHsamples[sample][5]))\n",
    "Pnew[0, 1] = 1 - Pnew[0, 0]\n",
    "Pnew[1, 0] = 1 - Pnew[1, 1]\n",
    "eigenvals, eigenvecs = np.linalg.eig(np.transpose(Pnew))\n",
    "one_eigval = np.argmin(np.abs(eigenvals - 1))\n",
    "piNew = np.divide(np.dot(np.transpose(Pnew), eigenvecs[:, one_eigval]), \n",
    "                  np.sum(np.dot(np.transpose(Pnew), eigenvecs[:,one_eigval])))\n",
    "\n",
    "musNew_HMM[0] = mus[0] * LHsamples[sample][1]\n",
    "musNew_HMM[1] = mus[1] * LHsamples[sample][0]\n",
    "sigmasNew_HMM[0] = sigmas[0] * LHsamples[sample][3]\n",
    "sigmasNew_HMM[1] = sigmas[1] * LHsamples[sample][2]\n",
    "\n",
    "# Generate first state and log-space annual flow at last node\n",
    "states = np.empty([n_years])\n",
    "if random() <= piNew[0]:\n",
    "    states[0] = 0\n",
    "    logAnnualQ_s[0] = ss.norm.rvs(musNew_HMM[0], sigmasNew_HMM[0])\n",
    "else:\n",
    "    states[0] = 1\n",
    "    logAnnualQ_s[0] = ss.norm.rvs(musNew_HMM[1], sigmasNew_HMM[1])\n",
    "\n",
    "# Generate remaining state trajectory and log space flows at last node\n",
    "for j in range(1, n_years):\n",
    "    if random() <= Pnew[int(states[j-1]), int(states[j-1])]:\n",
    "        states[j] = states[j-1]\n",
    "    else:\n",
    "        states[j] = 1 - states[j-1]\n",
    "\n",
    "    if states[j] == 0:\n",
    "        logAnnualQ_s[j] = ss.norm.rvs(musNew_HMM[0], sigmasNew_HMM[0])\n",
    "    else:\n",
    "        logAnnualQ_s[j] = ss.norm.rvs(musNew_HMM[1], sigmasNew_HMM[1])\n",
    "\n",
    "# Convert log-space flows to real-space flows\n",
    "AnnualQ_s = np.exp(logAnnualQ_s)-1\n"
   ]
  },
  {
   "cell_type": "markdown",
   "id": "2edcafba",
   "metadata": {},
   "source": [
    "Now let's see what this synthetic trace looks like."
   ]
  },
  {
   "cell_type": "code",
   "execution_count": null,
   "id": "f741ce17",
   "metadata": {
    "ExecuteTime": {
     "end_time": "2022-10-29T19:12:53.258462Z",
     "start_time": "2022-10-29T19:12:52.983619Z"
    }
   },
   "outputs": [],
   "source": [
    "# Retrieve samples and back-transform out of log space\n",
    "AnnualQ_s = pd.DataFrame(AnnualQ_s)\n",
    "AnnualQ_s['Year'] = list(range(1909, 2014))\n",
    "\n",
    "# Define drought threshold \n",
    "std = statistics.stdev(AnnualQ_s.iloc[:, 0])\n",
    "threshold = np.mean(AnnualQ_s.iloc[:, 0] - (0.5 * std))\n",
    "\n",
    "# Where does the rolling mean dip below the threshold\n",
    "drought_instances = [i for i, v in enumerate(AnnualQ_s.iloc[:, 0].rolling(11).mean()) if v < threshold]\n",
    "drought_years = AnnualQ_s.iloc[:, 1].rolling(11).mean()[drought_instances]\n",
    "\n",
    "# Visualize the streamflow scenario\n",
    "fig, ax = plt.subplots()\n",
    "\n",
    "# Plot the original line graph\n",
    "ax.plot(AnnualQ_s.iloc[:,1],\n",
    "        AnnualQ_s.iloc[:,0],\n",
    "        color='#005F73',\n",
    "        label='Annual')\n",
    "\n",
    "# Plot a 11-year rolling mean \n",
    "ax.plot(AnnualQ_s.iloc[:, 1],\n",
    "        AnnualQ_s.iloc[:, 0].rolling(11, center=True).mean(),\n",
    "        color='#0A9369',\n",
    "        label='11-Year Rolling Mean')\n",
    "\n",
    "# Add labels and title\n",
    "ax.axhline(y=threshold, \n",
    "           color='black', \n",
    "           linestyle='--',\n",
    "           label='Drought Threshold')\n",
    "\n",
    "\n",
    "for i in drought_years:\n",
    "    \n",
    "    # Plot a box centered around those values and with 5 years on either side.\n",
    "    rect = patches.Rectangle((i - 5,0), \n",
    "                             11,\n",
    "                             2e7, \n",
    "                             linewidth=1, \n",
    "                             edgecolor='yellow', \n",
    "                             facecolor='gold')\n",
    "    \n",
    "    # Add the patch to the Axes\n",
    "    ax.add_patch(rect)\n",
    "    \n",
    "    \n",
    "plt.title(\"Annual Flow (Synthetic Non-Stationary)\", fontsize=16)\n",
    "plt.xlabel(\"Year\", fontsize=16)\n",
    "plt.ylabel(\"Annual Flow (cubic feet per year)\", fontsize=16)\n",
    "plt.xticks(fontsize=12)\n",
    "plt.yticks(fontsize=12)\n",
    "mpl.rcParams['figure.figsize'] = [12, 8]\n",
    "mpl.rc('legend', fontsize=16)\n",
    "legend = plt.legend() \n"
   ]
  },
  {
   "cell_type": "markdown",
   "id": "25954322",
   "metadata": {},
   "source": [
    "Above is the example trace from the new non-stationary model. You may see fewer or more decadal drought instances. We can further summarize overall decadal drought characteristics across the samples. Let's plot a histogram of the total number of times we go below the drought threshold across these realizations. "
   ]
  },
  {
   "cell_type": "code",
   "execution_count": null,
   "id": "ff898231",
   "metadata": {
    "ExecuteTime": {
     "end_time": "2022-10-29T19:13:00.251021Z",
     "start_time": "2022-10-29T19:12:55.567649Z"
    }
   },
   "outputs": [],
   "source": [
    "decadal_drought_occurence=np.empty([1000]) \n",
    "\n",
    "for y in range(1000):\n",
    "    \n",
    "    # Create empty arrays to store the new Gaussian HMM parameters for each SOW\n",
    "    Pnew = np.empty([2, 2])\n",
    "    piNew = np.empty([2])\n",
    "    musNew_HMM = np.empty([2])\n",
    "    sigmasNew_HMM = np.empty([2])\n",
    "    logAnnualQ_s = np.empty([n_years]) \n",
    "    \n",
    "    # Calculate new transition matrix and stationary distribution of SOW at last node\n",
    "    # as well as new means and standard deviations\n",
    "\n",
    "    Pnew[0, 0] = max(0.0,min(1.0, P[0, 0] + LHsamples[y][4]))\n",
    "    Pnew[1, 1] = max(0.0,min(1.0, P[1, 1] + LHsamples[y][5]))\n",
    "    Pnew[0, 1] = 1 - Pnew[0, 0]\n",
    "    Pnew[1, 0] = 1 - Pnew[1, 1]\n",
    "    eigenvals, eigenvecs = np.linalg.eig(np.transpose(Pnew))\n",
    "    one_eigval = np.argmin(np.abs(eigenvals - 1))\n",
    "    piNew = np.divide(np.dot(np.transpose(Pnew), eigenvecs[:, one_eigval]),\n",
    "                      np.sum(np.dot(np.transpose(Pnew), eigenvecs[:, one_eigval])))\n",
    "\n",
    "    musNew_HMM[0] = mus[0] * LHsamples[y][1]\n",
    "    musNew_HMM[1] = mus[1] * LHsamples[y][0]\n",
    "    sigmasNew_HMM[0] = sigmas[0] * LHsamples[y][3]\n",
    "    sigmasNew_HMM[1] = sigmas[1] * LHsamples[y][2]\n",
    "\n",
    "    # Generate first state and log-space annual flow at last node\n",
    "    states = np.empty([n_years])\n",
    "    if random() <= piNew[0]:\n",
    "        states[0] = 0\n",
    "        logAnnualQ_s[0] = ss.norm.rvs(musNew_HMM[0], sigmasNew_HMM[0])\n",
    "    else:\n",
    "        states[0] = 1\n",
    "        logAnnualQ_s[0] = ss.norm.rvs(musNew_HMM[1], sigmasNew_HMM[1])\n",
    "\n",
    "    # generate remaining state trajectory and log space flows at last node\n",
    "    for j in range(1, n_years):\n",
    "        if random() <= Pnew[int(states[j-1]), int(states[j-1])]:\n",
    "            states[j] = states[j-1]\n",
    "        else:\n",
    "            states[j] = 1 - states[j-1]\n",
    "\n",
    "        if states[j] == 0:\n",
    "            logAnnualQ_s[j] = ss.norm.rvs(musNew_HMM[0], sigmasNew_HMM[0])\n",
    "        else:\n",
    "            logAnnualQ_s[j] = ss.norm.rvs(musNew_HMM[1], sigmasNew_HMM[1])\n",
    "\n",
    "    # Convert log-space flows to real-space flows\n",
    "    AnnualQ_s = np.exp(logAnnualQ_s) - 1\n",
    "    AnnualQ_s = pd.DataFrame(AnnualQ_s)\n",
    "    AnnualQ_s['Year'] = list(range(1909, 2014))\n",
    "\n",
    "    # Define drought threshold \n",
    "    std = statistics.stdev(AnnualQ_s.iloc[:, 0])\n",
    "    threshold = np.mean(AnnualQ_s.iloc[:, 0] - (0.5 * std))\n",
    "\n",
    "    # Where does the rolling mean dip below the threshold\n",
    "    drought_instances = [i for i, v in enumerate(AnnualQ_s.iloc[:, 0].rolling(11).mean()) if v < threshold]\n",
    "    decadal_drought_occurence[y] = len(drought_instances)\n",
    "    "
   ]
  },
  {
   "cell_type": "code",
   "execution_count": null,
   "id": "8281998b",
   "metadata": {
    "ExecuteTime": {
     "end_time": "2022-10-29T19:14:44.812146Z",
     "start_time": "2022-10-29T19:14:44.672543Z"
    }
   },
   "outputs": [],
   "source": [
    "fig, ax = plt.subplots()\n",
    "ax.hist(decadal_drought_occurence,label='Non-Stationary generator')\n",
    "ax.set_xlabel('Number of Instances of Decadal Drought',fontsize=16)\n",
    "ax.set_ylabel('Frequency',fontsize=16)\n",
    "ax.axvline(x=2, color='r', linestyle='-',label='Observed')\n",
    "mpl.rc('legend', fontsize = 16)\n",
    "plt.xticks(fontsize = 12)\n",
    "plt.yticks(fontsize = 12)\n",
    "mpl.rcParams['figure.figsize'] = [12, 8]\n"
   ]
  },
  {
   "cell_type": "markdown",
   "id": "e180dfa1",
   "metadata": {},
   "source": [
    "Note how many more instances of the decadal droughts we are creating with the non-stationary generator than our observed 105-year trace which creates a rich space in which we can test our models."
   ]
  },
  {
   "cell_type": "markdown",
   "id": "1dd2b306",
   "metadata": {},
   "source": [
    "## B6.5 Placing CMIP5 Projections in the Context of Non-Stationary Flows "
   ]
  },
  {
   "cell_type": "markdown",
   "id": "4acac362",
   "metadata": {},
   "source": [
    "We have broadened the drought conditions that we are creating which that can be very useful to understand how our water systems model performs under potentially extreme scenarios. However, it's useful to compare our bottom-up synthetically generated flows in the context of global physically-driven CIMP5 projections to get a better understanding of how the two approaches compare. We first aquire 97 CMIP5 projections from the Colorado River Water Availability Study (CWCB, 2012). In each of these projections, monthly precipitation factor changes and temperature delta changes were computed between mean projected 2035–2065 climate statistics and mean historical climate statistics from 1950–2013. These 97 different combinations of 12 monthly precipitation multipliers and 12 monthly temperature delta shifts were applied to historical precipitation and temperature time series from 1950–2013. The resulting climate time series were run through a Variable Infiltration Capacity (VIC) model of the UCRB, resulting in 97 time series of projected future streamflows at the Colorado‐Utah state line."
   ]
  },
  {
   "cell_type": "markdown",
   "id": "79b9fd7c",
   "metadata": {},
   "source": [
    "We fit an HMM to each trace of projected streamflow and get a set of corresponding HMM parameters. Then we take the ratio between these parameters and the baseline HMM parameters that we calculated earlier in the notebook in order to calculate the multipliers associated with each CMIP5 projection. This is all done externally, so we import the resulting multipliers in the next line."
   ]
  },
  {
   "cell_type": "code",
   "execution_count": null,
   "id": "b2e72fbe",
   "metadata": {
    "ExecuteTime": {
     "end_time": "2022-10-29T19:13:02.800790Z",
     "start_time": "2022-10-29T19:13:02.790683Z"
    },
    "scrolled": true
   },
   "outputs": [],
   "source": [
    "# Read in CMIP5 and paleo multipliers\n",
    "CMIP5_multipliers = pd.read_csv('data/CMIP5_SOWs.txt', header=None, sep=\" \")\n"
   ]
  },
  {
   "cell_type": "markdown",
   "id": "bee389c9",
   "metadata": {},
   "source": [
    "Let's plot a response surface that will allow us to see how combinations of HMM parameters tend to influence decadal drought. In order to get a continuous surface, we'll fit a non-linear regression to the parameter values and then predict the decadal drought over a set of grid points. We fit the response surface for two parameters that should have an affect on decadal drought: the dry distribution mean and the dry-dry transition probabilites. "
   ]
  },
  {
   "cell_type": "code",
   "execution_count": null,
   "id": "779781fc",
   "metadata": {
    "ExecuteTime": {
     "end_time": "2022-10-29T19:13:05.261226Z",
     "start_time": "2022-10-29T19:13:04.902848Z"
    }
   },
   "outputs": [],
   "source": [
    "# Choose two parameters to fit the response surface for\n",
    "mu_dry=[i[1] for i in LHsamples]\n",
    "tp_dry=[i[4] for i in LHsamples]\n",
    "\n",
    "# Create an interpolation grid\n",
    "xgrid = np.arange(np.min(mu_dry),\n",
    "                  np.max(mu_dry), \n",
    "                  (np.max(mu_dry) - np.min(mu_dry)) / 100)\n",
    "\n",
    "ygrid = np.arange(np.min(tp_dry),\n",
    "                  np.max(tp_dry), \n",
    "                  (np.max(tp_dry) - np.min(tp_dry)) / 100)\n",
    "\n",
    "# Fit regression \n",
    "d = {'Dry_Tp': tp_dry, \n",
    "     'Dry_Mu': mu_dry,\n",
    "     'Drought_Occurrence':decadal_drought_occurence}\n",
    "\n",
    "df = pd.DataFrame(d)\n",
    "df['Intercept'] = np.ones(np.shape(df)[0])\n",
    "df['Interaction'] = df['Dry_Tp'] * df['Dry_Mu']\n",
    "cols = ['Intercept'] + ['Dry_Mu'] + ['Dry_Tp'] + ['Interaction']\n",
    "ols = sm.OLS(df['Drought_Occurrence'], df[cols])\n",
    "result = ols.fit()\n",
    "\n",
    "# Calculate drought occurence for each grid point\n",
    "X, Y = np.meshgrid(xgrid, ygrid)\n",
    "x = X.flatten()\n",
    "y = Y.flatten()\n",
    "grid = np.column_stack([np.ones(len(x)), x, y, x * y])\n",
    "z = result.predict(grid)\n",
    "z[z < 0.0] = 0.0 # replace negative shortage predictions with 0\n"
   ]
  },
  {
   "cell_type": "markdown",
   "id": "34be3a36",
   "metadata": {},
   "source": [
    "Let's plot our results:"
   ]
  },
  {
   "cell_type": "code",
   "execution_count": null,
   "id": "df2425c3",
   "metadata": {
    "ExecuteTime": {
     "end_time": "2022-10-29T19:13:08.455622Z",
     "start_time": "2022-10-29T19:13:08.246655Z"
    }
   },
   "outputs": [],
   "source": [
    "# Set color gradient for response surface \n",
    "drought_map = mpl.cm.get_cmap('RdBu_r')\n",
    "\n",
    "# Reshape our predicted drought occurrence and define bounds of colors \n",
    "Z = np.reshape(z, np.shape(X))\n",
    "vmin = np.min([np.min(z), np.min(df['Drought_Occurrence'].values)])\n",
    "vmax = 15\n",
    "norm = mpl.colors.Normalize(vmin, vmax)\n",
    "\n",
    "# Plot response surface and CMIP5 projections\n",
    "fig, ax = plt.subplots()\n",
    "ax.contourf(X, Y, Z, cmap=drought_map, norm=norm)\n",
    "ax.scatter(CMIP5_multipliers.iloc[:,7],\n",
    "           CMIP5_multipliers.iloc[:,12], \n",
    "           c='#ffffb3', \n",
    "           edgecolor='none', \n",
    "           s=30)\n",
    "cbar = ax.figure.colorbar(mpl.cm.ScalarMappable(norm=norm, cmap=drought_map), ax=ax)\n",
    "ax.set_xlim(np.nanmin(X), np.nanmax(X))\n",
    "ax.set_ylim(np.nanmin(Y), np.nanmax(Y))\n",
    "ax.set_xlabel('Dry State Mu', fontsize=14)\n",
    "ax.set_ylabel('Dry-Dry Transition Probability', fontsize=14)\n",
    "ax.tick_params(axis='both', labelsize=14)\n",
    "cbar.ax.set_ylabel('Decadal Drought Occurrence', rotation=-90, fontsize=14, labelpad=15)\n",
    "cbar.ax.tick_params(axis='y',labelsize=14)\n"
   ]
  },
  {
   "cell_type": "markdown",
   "id": "be29d257",
   "metadata": {},
   "source": [
    "We see the influence of the dry state mean and dry-dry transition parameters. We're likely to see more decadal droughts when we (1) increase the dry-dry transition probability, which inherently will increase persistence of the dry state, and (2) when we make the dry state log mean drier. Note that the CMIP5 scenarios tend to span the extent of the dry mean sample space, but are less representative of the dry transition probability sample space, which suggests that the types of hydrological droughts represented in the projections tend to only be wetter to slightly drier than our baseline. Both methods of producing these scenarios are valid, though studies have suggested that globally-resolved GCMs may be inappropriate to represent regional extremes. Ultimately, if your goal is to produce a variety of ensembles that are characterized by many different drought characteristics, you will likely find that a generator approach will serve this purpose better."
   ]
  },
  {
   "cell_type": "markdown",
   "id": "71bae4ab",
   "metadata": {},
   "source": [
    "## B6.6 Tips to Create an HMM-Based Generator for your Problem\n",
    "\n",
    "In this tutorial, we demonstrated how to fit an HMM-based generator for a single gauge located in the Upper Colorado River Basin. In order to apply this methodology to your problem, you will need to first ask: \n",
    "\n",
    "(1) Is this model appropriate for my location of interest? We have applied this style of generator to locations where persistent wet and dry states are characteristic, which tends to be in the Western US. Ultimately the best way to judge if an HMM is useful for your application is to fit the model and explore the resulting distributions. Are there two (or more) distinct states that emerge? If not, then your location may not exhibit the type of persistence that an HMM-based generator is useful for. You can consider exploring other styles of generators such as the Kirsch-Nowak generator (Kirsch et al., 2013).\n",
    "\n",
    "(2) Do I have the right datasets? We use annual data for our location of interest. In this notebook, the HMM is fit to log annual flows. Ultimately, it can be disaggregated to daily flows (using a daily dataset) to be useful in water resources operational applications. You could also disaggregate to a finer resolution than daily if the historical dataset exists.   \n",
    "\n",
    "If you meet these requirements, feel free to proceed through fitting the model using the code available in the notebook. "
   ]
  },
  {
   "cell_type": "markdown",
   "id": "6feb5624",
   "metadata": {},
   "source": [
    "## B6.7 References \n",
    "\n",
    "Ault, T. R., Cole, J. E., Overpeck, J. T., Pederson, G. T., & Meko, D. M. (2014). Assessing the risk of persistent drought using climate model simulations and paleoclimate data. Journal of Climate, 27(20), 7529-7549.\n",
    "\n",
    "CWCB (2012).Colorado River Water Availability Study Phase I Report. Colorado Water Conservation Board\n",
    "\n",
    "Williams, A. P., Cook, B. I., & Smerdon, J. E. (2022). Rapid intensification of the emerging southwestern North American megadrought in 2020–2021. Nature Climate Change, 12(3), 232-234.\n",
    "\n",
    "Kirsch, B. R., Characklis, G. W., & Zeff, H. B. (2013). Evaluating the impact of alternative hydro-climate scenarios on transfer agreements: Practical improvement for generating synthetic streamflows. Journal of Water Resources Planning and Management, 139(4), 396-406.\n"
   ]
  },
  {
   "cell_type": "code",
   "execution_count": null,
   "id": "41bee0bf-7c99-44fc-bd44-dff01ec87737",
   "metadata": {},
   "outputs": [],
   "source": []
  }
 ],
 "metadata": {
  "celltoolbar": "Slideshow",
  "kernelspec": {
   "display_name": "py3.9.4_ml",
   "language": "python",
   "name": "py3.9.4_ml"
  },
  "language_info": {
   "codemirror_mode": {
    "name": "ipython",
    "version": 3
   },
   "file_extension": ".py",
   "mimetype": "text/x-python",
   "name": "python",
   "nbconvert_exporter": "python",
   "pygments_lexer": "ipython3",
   "version": "3.9.4"
  },
  "varInspector": {
   "cols": {
    "lenName": 16,
    "lenType": 16,
    "lenVar": 40
   },
   "kernels_config": {
    "python": {
     "delete_cmd_postfix": "",
     "delete_cmd_prefix": "del ",
     "library": "var_list.py",
     "varRefreshCmd": "print(var_dic_list())"
    },
    "r": {
     "delete_cmd_postfix": ") ",
     "delete_cmd_prefix": "rm(",
     "library": "var_list.r",
     "varRefreshCmd": "cat(var_dic_list()) "
    }
   },
   "position": {
    "height": "363.628px",
    "left": "1660.33px",
    "right": "20px",
    "top": "132px",
    "width": "447.778px"
   },
   "types_to_exclude": [
    "module",
    "function",
    "builtin_function_or_method",
    "instance",
    "_Feature"
   ],
   "window_display": false
  }
 },
 "nbformat": 4,
 "nbformat_minor": 5
}
